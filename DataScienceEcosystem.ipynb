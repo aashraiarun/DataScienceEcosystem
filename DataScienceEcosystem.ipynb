{
 "cells": [
  {
   "cell_type": "markdown",
   "id": "6e7e3835",
   "metadata": {},
   "source": [
    "#This notebook is called 'DataScienceEcosystem'"
   ]
  },
  {
   "cell_type": "markdown",
   "id": "357ae346",
   "metadata": {},
   "source": [
    "#In this notebook, Data Science Tools and Ecosystem are summarized"
   ]
  },
  {
   "cell_type": "markdown",
   "id": "68766a72",
   "metadata": {},
   "source": [
    "#Some of the popular languages that Data Scientists use are:"
   ]
  },
  {
   "cell_type": "markdown",
   "id": "9f67f437",
   "metadata": {},
   "source": [
    "1. SQL\n",
    "2. Python\n",
    "3. R"
   ]
  },
  {
   "cell_type": "markdown",
   "id": "2786e8a0",
   "metadata": {},
   "source": [
    "#Some of the commonly used libraries used by Data Scientists include:\n",
    "1. SciPy\n",
    "2. NumPy\n",
    "3. Pandas"
   ]
  },
  {
   "cell_type": "markdown",
   "id": "3c77b261",
   "metadata": {},
   "source": [
    "|Data Science Tools|\n",
    "|------------------|\n",
    "|RStudio|\n",
    "|Apache Spark|\n",
    "|WEKA|"
   ]
  },
  {
   "cell_type": "markdown",
   "id": "c1902c47",
   "metadata": {},
   "source": [
    "###Below are a few examples of evaluating arithmetic expressions in Python:\n",
    "#This a simple arithmetic expression to mutiply then add integers:\n",
    "(3*4)+5"
   ]
  },
  {
   "cell_type": "code",
   "execution_count": 2,
   "id": "0f01f0b8",
   "metadata": {},
   "outputs": [
    {
     "name": "stdout",
     "output_type": "stream",
     "text": [
      "17\n"
     ]
    }
   ],
   "source": [
    "num1 = 3\n",
    "num2 = 4\n",
    "num3 = 5\n",
    "calc = (num1*num2) + num3\n",
    "print(calc)"
   ]
  },
  {
   "cell_type": "markdown",
   "id": "13991df4",
   "metadata": {},
   "source": [
    "#This will convert hours to minutes"
   ]
  },
  {
   "cell_type": "code",
   "execution_count": 3,
   "id": "5e291039",
   "metadata": {},
   "outputs": [
    {
     "name": "stdout",
     "output_type": "stream",
     "text": [
      "Please enter hours:8\n",
      "480  Minutes\n"
     ]
    }
   ],
   "source": [
    "hours = int(input(\"Please enter hours:\"))\n",
    "minutes = hours * 60\n",
    "print(minutes, \" Minutes\")"
   ]
  },
  {
   "cell_type": "markdown",
   "id": "e8ddda8f",
   "metadata": {},
   "source": [
    "#List of popular datascience languages:\n",
    "* Python\n",
    "* R\n",
    "* SQL"
   ]
  },
  {
   "cell_type": "markdown",
   "id": "4afec440",
   "metadata": {},
   "source": [
    "##Author:\n",
    "Aashrai"
   ]
  }
 ],
 "metadata": {
  "kernelspec": {
   "display_name": "Python 3 (ipykernel)",
   "language": "python",
   "name": "python3"
  },
  "language_info": {
   "codemirror_mode": {
    "name": "ipython",
    "version": 3
   },
   "file_extension": ".py",
   "mimetype": "text/x-python",
   "name": "python",
   "nbconvert_exporter": "python",
   "pygments_lexer": "ipython3",
   "version": "3.10.9"
  }
 },
 "nbformat": 4,
 "nbformat_minor": 5
}
